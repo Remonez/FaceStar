{
 "cells": [
  {
   "cell_type": "markdown",
   "metadata": {},
   "source": [
    "<h2 style='color:blue' align='center'>Celebrity Classification for Actor Recognition<h2>"
   ]
  },
  {
   "cell_type": "code",
   "execution_count": 15,
   "metadata": {},
   "outputs": [],
   "source": [
    "# Standard libraries\n",
    "import os\n",
    "import numpy as np\n",
    "import pandas as pd\n",
    "import cv2\n",
    "import matplotlib\n",
    "from matplotlib import pyplot as plt\n",
    "import pywt\n",
    "\n",
    "# Import necessary libraries for machine learning and data preprocessing\n",
    "from sklearn.model_selection import train_test_split, GridSearchCV\n",
    "from sklearn.preprocessing import StandardScaler\n",
    "from sklearn.pipeline import Pipeline, make_pipeline\n",
    "from sklearn.metrics import classification_report\n",
    "\n",
    "# Import classifiers\n",
    "from sklearn import svm\n",
    "from sklearn.ensemble import RandomForestClassifier\n",
    "from sklearn.linear_model import LogisticRegression\n",
    "\n",
    "# Enable inline plotting for Jupyter notebooks (if applicable)\n",
    "%matplotlib inline"
   ]
  },
  {
   "cell_type": "code",
   "execution_count": null,
   "metadata": {},
   "outputs": [],
   "source": [
    "# Load Haar Cascade classifiers\n",
    "face_cascade = cv2.CascadeClassifier(cv2.data.haarcascades + 'haarcascade_frontalface_default.xml')\n",
    "eye_cascade = cv2.CascadeClassifier(cv2.data.haarcascades + 'haarcascade_eye.xml')"
   ]
  },
  {
   "cell_type": "code",
   "execution_count": 17,
   "metadata": {},
   "outputs": [],
   "source": [
    "def w2d(img, mode='haar', level=1):\n",
    "    imArray = img\n",
    "    #Datatype conversions\n",
    "    #convert to grayscale\n",
    "    imArray = cv2.cvtColor( imArray,cv2.COLOR_RGB2GRAY )\n",
    "    #convert to float\n",
    "    imArray =  np.float32(imArray)   \n",
    "    imArray /= 255;\n",
    "    # compute coefficients \n",
    "    coeffs=pywt.wavedec2(imArray, mode, level=level)\n",
    "\n",
    "    #Process Coefficients\n",
    "    coeffs_H=list(coeffs)  \n",
    "    coeffs_H[0] *= 0;  \n",
    "\n",
    "    # reconstruction\n",
    "    imArray_H=pywt.waverec2(coeffs_H, mode);\n",
    "    imArray_H *= 255;\n",
    "    imArray_H =  np.uint8(imArray_H)\n",
    "\n",
    "    return imArray_H"
   ]
  },
  {
   "cell_type": "code",
   "execution_count": 18,
   "metadata": {},
   "outputs": [],
   "source": [
    "def get_cropped_image_if_2_eyes(image_path):\n",
    "    img = cv2.imread(image_path)\n",
    "    gray = cv2.cvtColor(img, cv2.COLOR_BGR2GRAY)\n",
    "    faces = face_cascade.detectMultiScale(gray, 1.3, 5)\n",
    "    for (x,y,w,h) in faces:\n",
    "        roi_gray = gray[y:y+h, x:x+w]\n",
    "        roi_color = img[y:y+h, x:x+w]\n",
    "        eyes = eye_cascade.detectMultiScale(roi_gray)\n",
    "        if len(eyes) >= 2:\n",
    "            return roi_color"
   ]
  },
  {
   "cell_type": "code",
   "execution_count": 19,
   "metadata": {},
   "outputs": [],
   "source": [
    "path_to_data = \"./images/\"\n",
    "path_to_cr_data = \"./images/cropped/\""
   ]
  },
  {
   "cell_type": "code",
   "execution_count": 49,
   "metadata": {},
   "outputs": [],
   "source": [
    "import os\n",
    "img_dirs = []\n",
    "for entry in os.scandir(path_to_data):\n",
    "    if entry.is_dir():\n",
    "        img_dirs.append(entry.path)"
   ]
  },
  {
   "cell_type": "code",
   "execution_count": 50,
   "metadata": {
    "scrolled": true
   },
   "outputs": [
    {
     "data": {
      "text/plain": [
       "['./images/cropped',\n",
       " './images/Denzel Washington',\n",
       " './images/Leonardo DiCaprio',\n",
       " './images/Robert Downey Jr',\n",
       " './images/Sandra Bullock',\n",
       " './images/Scarlett Johansson']"
      ]
     },
     "execution_count": 50,
     "metadata": {},
     "output_type": "execute_result"
    }
   ],
   "source": [
    "img_dirs"
   ]
  },
  {
   "cell_type": "code",
   "execution_count": 51,
   "metadata": {},
   "outputs": [],
   "source": [
    "import shutil\n",
    "if os.path.exists(path_to_cr_data):\n",
    "     shutil.rmtree(path_to_cr_data)\n",
    "os.mkdir(path_to_cr_data)"
   ]
  },
  {
   "cell_type": "code",
   "execution_count": 52,
   "metadata": {
    "scrolled": true
   },
   "outputs": [
    {
     "name": "stdout",
     "output_type": "stream",
     "text": [
      "Generating cropped images in folder:  ./images/cropped/Denzel Washington\n",
      "Generating cropped images in folder:  ./images/cropped/Leonardo DiCaprio\n",
      "Generating cropped images in folder:  ./images/cropped/Robert Downey Jr\n",
      "Generating cropped images in folder:  ./images/cropped/Sandra Bullock\n",
      "Generating cropped images in folder:  ./images/cropped/Scarlett Johansson\n"
     ]
    }
   ],
   "source": [
    "cropped_image_dirs = []\n",
    "celebrity_file_names_dict = {}\n",
    "for img_dir in img_dirs:\n",
    "    count = 1\n",
    "    celebrity_name = img_dir.split('/')[-1]\n",
    "    celebrity_file_names_dict[celebrity_name] = []\n",
    "    for entry in os.scandir(img_dir):\n",
    "        roi_color = get_cropped_image_if_2_eyes(entry.path)\n",
    "        if roi_color is not None:\n",
    "            cropped_folder = path_to_cr_data + celebrity_name\n",
    "            if not os.path.exists(cropped_folder):\n",
    "                os.makedirs(cropped_folder)\n",
    "                cropped_image_dirs.append(cropped_folder)\n",
    "                print(\"Generating cropped images in folder: \",cropped_folder)\n",
    "            cropped_file_name = celebrity_name + str(count) + \".png\"\n",
    "            cropped_file_path = cropped_folder + \"/\" + cropped_file_name\n",
    "            cv2.imwrite(cropped_file_path, roi_color)\n",
    "            celebrity_file_names_dict[celebrity_name].append(cropped_file_path)\n",
    "            count += 1"
   ]
  },
  {
   "cell_type": "code",
   "execution_count": 53,
   "metadata": {},
   "outputs": [
    {
     "data": {
      "text/plain": [
       "{'Denzel Washington': ['./images/cropped/Denzel Washington\\\\Denzel Washington1.png',\n",
       "  './images/cropped/Denzel Washington\\\\Denzel Washington10.png',\n",
       "  './images/cropped/Denzel Washington\\\\Denzel Washington100.png',\n",
       "  './images/cropped/Denzel Washington\\\\Denzel Washington101.png',\n",
       "  './images/cropped/Denzel Washington\\\\Denzel Washington102.png',\n",
       "  './images/cropped/Denzel Washington\\\\Denzel Washington103.png',\n",
       "  './images/cropped/Denzel Washington\\\\Denzel Washington104.png',\n",
       "  './images/cropped/Denzel Washington\\\\Denzel Washington105.png',\n",
       "  './images/cropped/Denzel Washington\\\\Denzel Washington106.png',\n",
       "  './images/cropped/Denzel Washington\\\\Denzel Washington107.png',\n",
       "  './images/cropped/Denzel Washington\\\\Denzel Washington108.png',\n",
       "  './images/cropped/Denzel Washington\\\\Denzel Washington109.png',\n",
       "  './images/cropped/Denzel Washington\\\\Denzel Washington11.png',\n",
       "  './images/cropped/Denzel Washington\\\\Denzel Washington110.png',\n",
       "  './images/cropped/Denzel Washington\\\\Denzel Washington111.png',\n",
       "  './images/cropped/Denzel Washington\\\\Denzel Washington112.png',\n",
       "  './images/cropped/Denzel Washington\\\\Denzel Washington113.png',\n",
       "  './images/cropped/Denzel Washington\\\\Denzel Washington114.png',\n",
       "  './images/cropped/Denzel Washington\\\\Denzel Washington115.png',\n",
       "  './images/cropped/Denzel Washington\\\\Denzel Washington116.png',\n",
       "  './images/cropped/Denzel Washington\\\\Denzel Washington117.png',\n",
       "  './images/cropped/Denzel Washington\\\\Denzel Washington118.png',\n",
       "  './images/cropped/Denzel Washington\\\\Denzel Washington119.png',\n",
       "  './images/cropped/Denzel Washington\\\\Denzel Washington12.png',\n",
       "  './images/cropped/Denzel Washington\\\\Denzel Washington120.png',\n",
       "  './images/cropped/Denzel Washington\\\\Denzel Washington121.png',\n",
       "  './images/cropped/Denzel Washington\\\\Denzel Washington122.png',\n",
       "  './images/cropped/Denzel Washington\\\\Denzel Washington123.png',\n",
       "  './images/cropped/Denzel Washington\\\\Denzel Washington124.png',\n",
       "  './images/cropped/Denzel Washington\\\\Denzel Washington125.png',\n",
       "  './images/cropped/Denzel Washington\\\\Denzel Washington126.png',\n",
       "  './images/cropped/Denzel Washington\\\\Denzel Washington127.png',\n",
       "  './images/cropped/Denzel Washington\\\\Denzel Washington128.png',\n",
       "  './images/cropped/Denzel Washington\\\\Denzel Washington129.png',\n",
       "  './images/cropped/Denzel Washington\\\\Denzel Washington13.png',\n",
       "  './images/cropped/Denzel Washington\\\\Denzel Washington130.png',\n",
       "  './images/cropped/Denzel Washington\\\\Denzel Washington131.png',\n",
       "  './images/cropped/Denzel Washington\\\\Denzel Washington132.png',\n",
       "  './images/cropped/Denzel Washington\\\\Denzel Washington14.png',\n",
       "  './images/cropped/Denzel Washington\\\\Denzel Washington15.png',\n",
       "  './images/cropped/Denzel Washington\\\\Denzel Washington16.png',\n",
       "  './images/cropped/Denzel Washington\\\\Denzel Washington17.png',\n",
       "  './images/cropped/Denzel Washington\\\\Denzel Washington18.png',\n",
       "  './images/cropped/Denzel Washington\\\\Denzel Washington19.png',\n",
       "  './images/cropped/Denzel Washington\\\\Denzel Washington2.png',\n",
       "  './images/cropped/Denzel Washington\\\\Denzel Washington20.png',\n",
       "  './images/cropped/Denzel Washington\\\\Denzel Washington21.png',\n",
       "  './images/cropped/Denzel Washington\\\\Denzel Washington22.png',\n",
       "  './images/cropped/Denzel Washington\\\\Denzel Washington23.png',\n",
       "  './images/cropped/Denzel Washington\\\\Denzel Washington24.png',\n",
       "  './images/cropped/Denzel Washington\\\\Denzel Washington25.png',\n",
       "  './images/cropped/Denzel Washington\\\\Denzel Washington26.png',\n",
       "  './images/cropped/Denzel Washington\\\\Denzel Washington27.png',\n",
       "  './images/cropped/Denzel Washington\\\\Denzel Washington28.png',\n",
       "  './images/cropped/Denzel Washington\\\\Denzel Washington29.png',\n",
       "  './images/cropped/Denzel Washington\\\\Denzel Washington3.png',\n",
       "  './images/cropped/Denzel Washington\\\\Denzel Washington30.png',\n",
       "  './images/cropped/Denzel Washington\\\\Denzel Washington31.png',\n",
       "  './images/cropped/Denzel Washington\\\\Denzel Washington32.png',\n",
       "  './images/cropped/Denzel Washington\\\\Denzel Washington33.png',\n",
       "  './images/cropped/Denzel Washington\\\\Denzel Washington34.png',\n",
       "  './images/cropped/Denzel Washington\\\\Denzel Washington35.png',\n",
       "  './images/cropped/Denzel Washington\\\\Denzel Washington36.png',\n",
       "  './images/cropped/Denzel Washington\\\\Denzel Washington37.png',\n",
       "  './images/cropped/Denzel Washington\\\\Denzel Washington38.png',\n",
       "  './images/cropped/Denzel Washington\\\\Denzel Washington39.png',\n",
       "  './images/cropped/Denzel Washington\\\\Denzel Washington4.png',\n",
       "  './images/cropped/Denzel Washington\\\\Denzel Washington40.png',\n",
       "  './images/cropped/Denzel Washington\\\\Denzel Washington41.png',\n",
       "  './images/cropped/Denzel Washington\\\\Denzel Washington42.png',\n",
       "  './images/cropped/Denzel Washington\\\\Denzel Washington43.png',\n",
       "  './images/cropped/Denzel Washington\\\\Denzel Washington44.png',\n",
       "  './images/cropped/Denzel Washington\\\\Denzel Washington45.png',\n",
       "  './images/cropped/Denzel Washington\\\\Denzel Washington46.png',\n",
       "  './images/cropped/Denzel Washington\\\\Denzel Washington47.png',\n",
       "  './images/cropped/Denzel Washington\\\\Denzel Washington48.png',\n",
       "  './images/cropped/Denzel Washington\\\\Denzel Washington49.png',\n",
       "  './images/cropped/Denzel Washington\\\\Denzel Washington5.png',\n",
       "  './images/cropped/Denzel Washington\\\\Denzel Washington50.png',\n",
       "  './images/cropped/Denzel Washington\\\\Denzel Washington51.png',\n",
       "  './images/cropped/Denzel Washington\\\\Denzel Washington52.png',\n",
       "  './images/cropped/Denzel Washington\\\\Denzel Washington53.png',\n",
       "  './images/cropped/Denzel Washington\\\\Denzel Washington54.png',\n",
       "  './images/cropped/Denzel Washington\\\\Denzel Washington55.png',\n",
       "  './images/cropped/Denzel Washington\\\\Denzel Washington56.png',\n",
       "  './images/cropped/Denzel Washington\\\\Denzel Washington57.png',\n",
       "  './images/cropped/Denzel Washington\\\\Denzel Washington58.png',\n",
       "  './images/cropped/Denzel Washington\\\\Denzel Washington59.png',\n",
       "  './images/cropped/Denzel Washington\\\\Denzel Washington6.png',\n",
       "  './images/cropped/Denzel Washington\\\\Denzel Washington60.png',\n",
       "  './images/cropped/Denzel Washington\\\\Denzel Washington61.png',\n",
       "  './images/cropped/Denzel Washington\\\\Denzel Washington62.png',\n",
       "  './images/cropped/Denzel Washington\\\\Denzel Washington63.png',\n",
       "  './images/cropped/Denzel Washington\\\\Denzel Washington64.png',\n",
       "  './images/cropped/Denzel Washington\\\\Denzel Washington65.png',\n",
       "  './images/cropped/Denzel Washington\\\\Denzel Washington66.png',\n",
       "  './images/cropped/Denzel Washington\\\\Denzel Washington67.png',\n",
       "  './images/cropped/Denzel Washington\\\\Denzel Washington68.png',\n",
       "  './images/cropped/Denzel Washington\\\\Denzel Washington69.png',\n",
       "  './images/cropped/Denzel Washington\\\\Denzel Washington7.png',\n",
       "  './images/cropped/Denzel Washington\\\\Denzel Washington70.png',\n",
       "  './images/cropped/Denzel Washington\\\\Denzel Washington71.png',\n",
       "  './images/cropped/Denzel Washington\\\\Denzel Washington72.png',\n",
       "  './images/cropped/Denzel Washington\\\\Denzel Washington73.png',\n",
       "  './images/cropped/Denzel Washington\\\\Denzel Washington74.png',\n",
       "  './images/cropped/Denzel Washington\\\\Denzel Washington75.png',\n",
       "  './images/cropped/Denzel Washington\\\\Denzel Washington76.png',\n",
       "  './images/cropped/Denzel Washington\\\\Denzel Washington77.png',\n",
       "  './images/cropped/Denzel Washington\\\\Denzel Washington78.png',\n",
       "  './images/cropped/Denzel Washington\\\\Denzel Washington79.png',\n",
       "  './images/cropped/Denzel Washington\\\\Denzel Washington8.png',\n",
       "  './images/cropped/Denzel Washington\\\\Denzel Washington80.png',\n",
       "  './images/cropped/Denzel Washington\\\\Denzel Washington81.png',\n",
       "  './images/cropped/Denzel Washington\\\\Denzel Washington82.png',\n",
       "  './images/cropped/Denzel Washington\\\\Denzel Washington83.png',\n",
       "  './images/cropped/Denzel Washington\\\\Denzel Washington84.png',\n",
       "  './images/cropped/Denzel Washington\\\\Denzel Washington85.png',\n",
       "  './images/cropped/Denzel Washington\\\\Denzel Washington86.png',\n",
       "  './images/cropped/Denzel Washington\\\\Denzel Washington87.png',\n",
       "  './images/cropped/Denzel Washington\\\\Denzel Washington88.png',\n",
       "  './images/cropped/Denzel Washington\\\\Denzel Washington89.png',\n",
       "  './images/cropped/Denzel Washington\\\\Denzel Washington9.png',\n",
       "  './images/cropped/Denzel Washington\\\\Denzel Washington90.png',\n",
       "  './images/cropped/Denzel Washington\\\\Denzel Washington91.png',\n",
       "  './images/cropped/Denzel Washington\\\\Denzel Washington92.png',\n",
       "  './images/cropped/Denzel Washington\\\\Denzel Washington93.png',\n",
       "  './images/cropped/Denzel Washington\\\\Denzel Washington94.png',\n",
       "  './images/cropped/Denzel Washington\\\\Denzel Washington95.png',\n",
       "  './images/cropped/Denzel Washington\\\\Denzel Washington96.png',\n",
       "  './images/cropped/Denzel Washington\\\\Denzel Washington97.png',\n",
       "  './images/cropped/Denzel Washington\\\\Denzel Washington98.png',\n",
       "  './images/cropped/Denzel Washington\\\\Denzel Washington99.png'],\n",
       " 'Leonardo DiCaprio': ['./images/cropped/Leonardo DiCaprio\\\\Leonardo DiCaprio1.png',\n",
       "  './images/cropped/Leonardo DiCaprio\\\\Leonardo DiCaprio10.png',\n",
       "  './images/cropped/Leonardo DiCaprio\\\\Leonardo DiCaprio100.png',\n",
       "  './images/cropped/Leonardo DiCaprio\\\\Leonardo DiCaprio101.png',\n",
       "  './images/cropped/Leonardo DiCaprio\\\\Leonardo DiCaprio102.png',\n",
       "  './images/cropped/Leonardo DiCaprio\\\\Leonardo DiCaprio103.png',\n",
       "  './images/cropped/Leonardo DiCaprio\\\\Leonardo DiCaprio104.png',\n",
       "  './images/cropped/Leonardo DiCaprio\\\\Leonardo DiCaprio105.png',\n",
       "  './images/cropped/Leonardo DiCaprio\\\\Leonardo DiCaprio106.png',\n",
       "  './images/cropped/Leonardo DiCaprio\\\\Leonardo DiCaprio107.png',\n",
       "  './images/cropped/Leonardo DiCaprio\\\\Leonardo DiCaprio108.png',\n",
       "  './images/cropped/Leonardo DiCaprio\\\\Leonardo DiCaprio109.png',\n",
       "  './images/cropped/Leonardo DiCaprio\\\\Leonardo DiCaprio11.png',\n",
       "  './images/cropped/Leonardo DiCaprio\\\\Leonardo DiCaprio110.png',\n",
       "  './images/cropped/Leonardo DiCaprio\\\\Leonardo DiCaprio111.png',\n",
       "  './images/cropped/Leonardo DiCaprio\\\\Leonardo DiCaprio112.png',\n",
       "  './images/cropped/Leonardo DiCaprio\\\\Leonardo DiCaprio113.png',\n",
       "  './images/cropped/Leonardo DiCaprio\\\\Leonardo DiCaprio114.png',\n",
       "  './images/cropped/Leonardo DiCaprio\\\\Leonardo DiCaprio115.png',\n",
       "  './images/cropped/Leonardo DiCaprio\\\\Leonardo DiCaprio116.png',\n",
       "  './images/cropped/Leonardo DiCaprio\\\\Leonardo DiCaprio117.png',\n",
       "  './images/cropped/Leonardo DiCaprio\\\\Leonardo DiCaprio118.png',\n",
       "  './images/cropped/Leonardo DiCaprio\\\\Leonardo DiCaprio119.png',\n",
       "  './images/cropped/Leonardo DiCaprio\\\\Leonardo DiCaprio12.png',\n",
       "  './images/cropped/Leonardo DiCaprio\\\\Leonardo DiCaprio120.png',\n",
       "  './images/cropped/Leonardo DiCaprio\\\\Leonardo DiCaprio121.png',\n",
       "  './images/cropped/Leonardo DiCaprio\\\\Leonardo DiCaprio122.png',\n",
       "  './images/cropped/Leonardo DiCaprio\\\\Leonardo DiCaprio123.png',\n",
       "  './images/cropped/Leonardo DiCaprio\\\\Leonardo DiCaprio124.png',\n",
       "  './images/cropped/Leonardo DiCaprio\\\\Leonardo DiCaprio125.png',\n",
       "  './images/cropped/Leonardo DiCaprio\\\\Leonardo DiCaprio126.png',\n",
       "  './images/cropped/Leonardo DiCaprio\\\\Leonardo DiCaprio127.png',\n",
       "  './images/cropped/Leonardo DiCaprio\\\\Leonardo DiCaprio128.png',\n",
       "  './images/cropped/Leonardo DiCaprio\\\\Leonardo DiCaprio129.png',\n",
       "  './images/cropped/Leonardo DiCaprio\\\\Leonardo DiCaprio13.png',\n",
       "  './images/cropped/Leonardo DiCaprio\\\\Leonardo DiCaprio130.png',\n",
       "  './images/cropped/Leonardo DiCaprio\\\\Leonardo DiCaprio131.png',\n",
       "  './images/cropped/Leonardo DiCaprio\\\\Leonardo DiCaprio132.png',\n",
       "  './images/cropped/Leonardo DiCaprio\\\\Leonardo DiCaprio133.png',\n",
       "  './images/cropped/Leonardo DiCaprio\\\\Leonardo DiCaprio134.png',\n",
       "  './images/cropped/Leonardo DiCaprio\\\\Leonardo DiCaprio135.png',\n",
       "  './images/cropped/Leonardo DiCaprio\\\\Leonardo DiCaprio136.png',\n",
       "  './images/cropped/Leonardo DiCaprio\\\\Leonardo DiCaprio137.png',\n",
       "  './images/cropped/Leonardo DiCaprio\\\\Leonardo DiCaprio138.png',\n",
       "  './images/cropped/Leonardo DiCaprio\\\\Leonardo DiCaprio139.png',\n",
       "  './images/cropped/Leonardo DiCaprio\\\\Leonardo DiCaprio14.png',\n",
       "  './images/cropped/Leonardo DiCaprio\\\\Leonardo DiCaprio140.png',\n",
       "  './images/cropped/Leonardo DiCaprio\\\\Leonardo DiCaprio141.png',\n",
       "  './images/cropped/Leonardo DiCaprio\\\\Leonardo DiCaprio142.png',\n",
       "  './images/cropped/Leonardo DiCaprio\\\\Leonardo DiCaprio143.png',\n",
       "  './images/cropped/Leonardo DiCaprio\\\\Leonardo DiCaprio144.png',\n",
       "  './images/cropped/Leonardo DiCaprio\\\\Leonardo DiCaprio145.png',\n",
       "  './images/cropped/Leonardo DiCaprio\\\\Leonardo DiCaprio146.png',\n",
       "  './images/cropped/Leonardo DiCaprio\\\\Leonardo DiCaprio147.png',\n",
       "  './images/cropped/Leonardo DiCaprio\\\\Leonardo DiCaprio148.png',\n",
       "  './images/cropped/Leonardo DiCaprio\\\\Leonardo DiCaprio149.png',\n",
       "  './images/cropped/Leonardo DiCaprio\\\\Leonardo DiCaprio15.png',\n",
       "  './images/cropped/Leonardo DiCaprio\\\\Leonardo DiCaprio150.png',\n",
       "  './images/cropped/Leonardo DiCaprio\\\\Leonardo DiCaprio151.png',\n",
       "  './images/cropped/Leonardo DiCaprio\\\\Leonardo DiCaprio152.png',\n",
       "  './images/cropped/Leonardo DiCaprio\\\\Leonardo DiCaprio153.png',\n",
       "  './images/cropped/Leonardo DiCaprio\\\\Leonardo DiCaprio16.png',\n",
       "  './images/cropped/Leonardo DiCaprio\\\\Leonardo DiCaprio17.png',\n",
       "  './images/cropped/Leonardo DiCaprio\\\\Leonardo DiCaprio18.png',\n",
       "  './images/cropped/Leonardo DiCaprio\\\\Leonardo DiCaprio19.png',\n",
       "  './images/cropped/Leonardo DiCaprio\\\\Leonardo DiCaprio2.png',\n",
       "  './images/cropped/Leonardo DiCaprio\\\\Leonardo DiCaprio20.png',\n",
       "  './images/cropped/Leonardo DiCaprio\\\\Leonardo DiCaprio21.png',\n",
       "  './images/cropped/Leonardo DiCaprio\\\\Leonardo DiCaprio22.png',\n",
       "  './images/cropped/Leonardo DiCaprio\\\\Leonardo DiCaprio23.png',\n",
       "  './images/cropped/Leonardo DiCaprio\\\\Leonardo DiCaprio24.png',\n",
       "  './images/cropped/Leonardo DiCaprio\\\\Leonardo DiCaprio25.png',\n",
       "  './images/cropped/Leonardo DiCaprio\\\\Leonardo DiCaprio26.png',\n",
       "  './images/cropped/Leonardo DiCaprio\\\\Leonardo DiCaprio27.png',\n",
       "  './images/cropped/Leonardo DiCaprio\\\\Leonardo DiCaprio28.png',\n",
       "  './images/cropped/Leonardo DiCaprio\\\\Leonardo DiCaprio29.png',\n",
       "  './images/cropped/Leonardo DiCaprio\\\\Leonardo DiCaprio3.png',\n",
       "  './images/cropped/Leonardo DiCaprio\\\\Leonardo DiCaprio30.png',\n",
       "  './images/cropped/Leonardo DiCaprio\\\\Leonardo DiCaprio31.png',\n",
       "  './images/cropped/Leonardo DiCaprio\\\\Leonardo DiCaprio32.png',\n",
       "  './images/cropped/Leonardo DiCaprio\\\\Leonardo DiCaprio33.png',\n",
       "  './images/cropped/Leonardo DiCaprio\\\\Leonardo DiCaprio34.png',\n",
       "  './images/cropped/Leonardo DiCaprio\\\\Leonardo DiCaprio35.png',\n",
       "  './images/cropped/Leonardo DiCaprio\\\\Leonardo DiCaprio36.png',\n",
       "  './images/cropped/Leonardo DiCaprio\\\\Leonardo DiCaprio37.png',\n",
       "  './images/cropped/Leonardo DiCaprio\\\\Leonardo DiCaprio38.png',\n",
       "  './images/cropped/Leonardo DiCaprio\\\\Leonardo DiCaprio39.png',\n",
       "  './images/cropped/Leonardo DiCaprio\\\\Leonardo DiCaprio4.png',\n",
       "  './images/cropped/Leonardo DiCaprio\\\\Leonardo DiCaprio40.png',\n",
       "  './images/cropped/Leonardo DiCaprio\\\\Leonardo DiCaprio41.png',\n",
       "  './images/cropped/Leonardo DiCaprio\\\\Leonardo DiCaprio42.png',\n",
       "  './images/cropped/Leonardo DiCaprio\\\\Leonardo DiCaprio43.png',\n",
       "  './images/cropped/Leonardo DiCaprio\\\\Leonardo DiCaprio44.png',\n",
       "  './images/cropped/Leonardo DiCaprio\\\\Leonardo DiCaprio45.png',\n",
       "  './images/cropped/Leonardo DiCaprio\\\\Leonardo DiCaprio46.png',\n",
       "  './images/cropped/Leonardo DiCaprio\\\\Leonardo DiCaprio47.png',\n",
       "  './images/cropped/Leonardo DiCaprio\\\\Leonardo DiCaprio48.png',\n",
       "  './images/cropped/Leonardo DiCaprio\\\\Leonardo DiCaprio49.png',\n",
       "  './images/cropped/Leonardo DiCaprio\\\\Leonardo DiCaprio5.png',\n",
       "  './images/cropped/Leonardo DiCaprio\\\\Leonardo DiCaprio50.png',\n",
       "  './images/cropped/Leonardo DiCaprio\\\\Leonardo DiCaprio51.png',\n",
       "  './images/cropped/Leonardo DiCaprio\\\\Leonardo DiCaprio52.png',\n",
       "  './images/cropped/Leonardo DiCaprio\\\\Leonardo DiCaprio53.png',\n",
       "  './images/cropped/Leonardo DiCaprio\\\\Leonardo DiCaprio54.png',\n",
       "  './images/cropped/Leonardo DiCaprio\\\\Leonardo DiCaprio55.png',\n",
       "  './images/cropped/Leonardo DiCaprio\\\\Leonardo DiCaprio56.png',\n",
       "  './images/cropped/Leonardo DiCaprio\\\\Leonardo DiCaprio57.png',\n",
       "  './images/cropped/Leonardo DiCaprio\\\\Leonardo DiCaprio58.png',\n",
       "  './images/cropped/Leonardo DiCaprio\\\\Leonardo DiCaprio59.png',\n",
       "  './images/cropped/Leonardo DiCaprio\\\\Leonardo DiCaprio6.png',\n",
       "  './images/cropped/Leonardo DiCaprio\\\\Leonardo DiCaprio60.png',\n",
       "  './images/cropped/Leonardo DiCaprio\\\\Leonardo DiCaprio61.png',\n",
       "  './images/cropped/Leonardo DiCaprio\\\\Leonardo DiCaprio62.png',\n",
       "  './images/cropped/Leonardo DiCaprio\\\\Leonardo DiCaprio63.png',\n",
       "  './images/cropped/Leonardo DiCaprio\\\\Leonardo DiCaprio64.png',\n",
       "  './images/cropped/Leonardo DiCaprio\\\\Leonardo DiCaprio65.png',\n",
       "  './images/cropped/Leonardo DiCaprio\\\\Leonardo DiCaprio66.png',\n",
       "  './images/cropped/Leonardo DiCaprio\\\\Leonardo DiCaprio67.png',\n",
       "  './images/cropped/Leonardo DiCaprio\\\\Leonardo DiCaprio68.png',\n",
       "  './images/cropped/Leonardo DiCaprio\\\\Leonardo DiCaprio69.png',\n",
       "  './images/cropped/Leonardo DiCaprio\\\\Leonardo DiCaprio7.png',\n",
       "  './images/cropped/Leonardo DiCaprio\\\\Leonardo DiCaprio70.png',\n",
       "  './images/cropped/Leonardo DiCaprio\\\\Leonardo DiCaprio71.png',\n",
       "  './images/cropped/Leonardo DiCaprio\\\\Leonardo DiCaprio72.png',\n",
       "  './images/cropped/Leonardo DiCaprio\\\\Leonardo DiCaprio73.png',\n",
       "  './images/cropped/Leonardo DiCaprio\\\\Leonardo DiCaprio74.png',\n",
       "  './images/cropped/Leonardo DiCaprio\\\\Leonardo DiCaprio75.png',\n",
       "  './images/cropped/Leonardo DiCaprio\\\\Leonardo DiCaprio76.png',\n",
       "  './images/cropped/Leonardo DiCaprio\\\\Leonardo DiCaprio77.png',\n",
       "  './images/cropped/Leonardo DiCaprio\\\\Leonardo DiCaprio78.png',\n",
       "  './images/cropped/Leonardo DiCaprio\\\\Leonardo DiCaprio79.png',\n",
       "  './images/cropped/Leonardo DiCaprio\\\\Leonardo DiCaprio8.png',\n",
       "  './images/cropped/Leonardo DiCaprio\\\\Leonardo DiCaprio80.png',\n",
       "  './images/cropped/Leonardo DiCaprio\\\\Leonardo DiCaprio81.png',\n",
       "  './images/cropped/Leonardo DiCaprio\\\\Leonardo DiCaprio82.png',\n",
       "  './images/cropped/Leonardo DiCaprio\\\\Leonardo DiCaprio83.png',\n",
       "  './images/cropped/Leonardo DiCaprio\\\\Leonardo DiCaprio84.png',\n",
       "  './images/cropped/Leonardo DiCaprio\\\\Leonardo DiCaprio85.png',\n",
       "  './images/cropped/Leonardo DiCaprio\\\\Leonardo DiCaprio86.png',\n",
       "  './images/cropped/Leonardo DiCaprio\\\\Leonardo DiCaprio87.png',\n",
       "  './images/cropped/Leonardo DiCaprio\\\\Leonardo DiCaprio88.png',\n",
       "  './images/cropped/Leonardo DiCaprio\\\\Leonardo DiCaprio89.png',\n",
       "  './images/cropped/Leonardo DiCaprio\\\\Leonardo DiCaprio9.png',\n",
       "  './images/cropped/Leonardo DiCaprio\\\\Leonardo DiCaprio90.png',\n",
       "  './images/cropped/Leonardo DiCaprio\\\\Leonardo DiCaprio91.png',\n",
       "  './images/cropped/Leonardo DiCaprio\\\\Leonardo DiCaprio92.png',\n",
       "  './images/cropped/Leonardo DiCaprio\\\\Leonardo DiCaprio93.png',\n",
       "  './images/cropped/Leonardo DiCaprio\\\\Leonardo DiCaprio94.png',\n",
       "  './images/cropped/Leonardo DiCaprio\\\\Leonardo DiCaprio95.png',\n",
       "  './images/cropped/Leonardo DiCaprio\\\\Leonardo DiCaprio96.png',\n",
       "  './images/cropped/Leonardo DiCaprio\\\\Leonardo DiCaprio97.png',\n",
       "  './images/cropped/Leonardo DiCaprio\\\\Leonardo DiCaprio98.png',\n",
       "  './images/cropped/Leonardo DiCaprio\\\\Leonardo DiCaprio99.png'],\n",
       " 'Robert Downey Jr': ['./images/cropped/Robert Downey Jr\\\\Robert Downey Jr1.png',\n",
       "  './images/cropped/Robert Downey Jr\\\\Robert Downey Jr10.png',\n",
       "  './images/cropped/Robert Downey Jr\\\\Robert Downey Jr100.png',\n",
       "  './images/cropped/Robert Downey Jr\\\\Robert Downey Jr101.png',\n",
       "  './images/cropped/Robert Downey Jr\\\\Robert Downey Jr102.png',\n",
       "  './images/cropped/Robert Downey Jr\\\\Robert Downey Jr103.png',\n",
       "  './images/cropped/Robert Downey Jr\\\\Robert Downey Jr104.png',\n",
       "  './images/cropped/Robert Downey Jr\\\\Robert Downey Jr105.png',\n",
       "  './images/cropped/Robert Downey Jr\\\\Robert Downey Jr106.png',\n",
       "  './images/cropped/Robert Downey Jr\\\\Robert Downey Jr107.png',\n",
       "  './images/cropped/Robert Downey Jr\\\\Robert Downey Jr108.png',\n",
       "  './images/cropped/Robert Downey Jr\\\\Robert Downey Jr109.png',\n",
       "  './images/cropped/Robert Downey Jr\\\\Robert Downey Jr11.png',\n",
       "  './images/cropped/Robert Downey Jr\\\\Robert Downey Jr110.png',\n",
       "  './images/cropped/Robert Downey Jr\\\\Robert Downey Jr111.png',\n",
       "  './images/cropped/Robert Downey Jr\\\\Robert Downey Jr112.png',\n",
       "  './images/cropped/Robert Downey Jr\\\\Robert Downey Jr113.png',\n",
       "  './images/cropped/Robert Downey Jr\\\\Robert Downey Jr114.png',\n",
       "  './images/cropped/Robert Downey Jr\\\\Robert Downey Jr115.png',\n",
       "  './images/cropped/Robert Downey Jr\\\\Robert Downey Jr116.png',\n",
       "  './images/cropped/Robert Downey Jr\\\\Robert Downey Jr13.png',\n",
       "  './images/cropped/Robert Downey Jr\\\\Robert Downey Jr14.png',\n",
       "  './images/cropped/Robert Downey Jr\\\\Robert Downey Jr15.png',\n",
       "  './images/cropped/Robert Downey Jr\\\\Robert Downey Jr16.png',\n",
       "  './images/cropped/Robert Downey Jr\\\\Robert Downey Jr17.png',\n",
       "  './images/cropped/Robert Downey Jr\\\\Robert Downey Jr18.png',\n",
       "  './images/cropped/Robert Downey Jr\\\\Robert Downey Jr19.png',\n",
       "  './images/cropped/Robert Downey Jr\\\\Robert Downey Jr2.png',\n",
       "  './images/cropped/Robert Downey Jr\\\\Robert Downey Jr20.png',\n",
       "  './images/cropped/Robert Downey Jr\\\\Robert Downey Jr21.png',\n",
       "  './images/cropped/Robert Downey Jr\\\\Robert Downey Jr22.png',\n",
       "  './images/cropped/Robert Downey Jr\\\\Robert Downey Jr23.png',\n",
       "  './images/cropped/Robert Downey Jr\\\\Robert Downey Jr24.png',\n",
       "  './images/cropped/Robert Downey Jr\\\\Robert Downey Jr25.png',\n",
       "  './images/cropped/Robert Downey Jr\\\\Robert Downey Jr26.png',\n",
       "  './images/cropped/Robert Downey Jr\\\\Robert Downey Jr27.png',\n",
       "  './images/cropped/Robert Downey Jr\\\\Robert Downey Jr28.png',\n",
       "  './images/cropped/Robert Downey Jr\\\\Robert Downey Jr29.png',\n",
       "  './images/cropped/Robert Downey Jr\\\\Robert Downey Jr3.png',\n",
       "  './images/cropped/Robert Downey Jr\\\\Robert Downey Jr30.png',\n",
       "  './images/cropped/Robert Downey Jr\\\\Robert Downey Jr31.png',\n",
       "  './images/cropped/Robert Downey Jr\\\\Robert Downey Jr32.png',\n",
       "  './images/cropped/Robert Downey Jr\\\\Robert Downey Jr33.png',\n",
       "  './images/cropped/Robert Downey Jr\\\\Robert Downey Jr34.png',\n",
       "  './images/cropped/Robert Downey Jr\\\\Robert Downey Jr35.png',\n",
       "  './images/cropped/Robert Downey Jr\\\\Robert Downey Jr36.png',\n",
       "  './images/cropped/Robert Downey Jr\\\\Robert Downey Jr37.png',\n",
       "  './images/cropped/Robert Downey Jr\\\\Robert Downey Jr38.png',\n",
       "  './images/cropped/Robert Downey Jr\\\\Robert Downey Jr39.png',\n",
       "  './images/cropped/Robert Downey Jr\\\\Robert Downey Jr4.png',\n",
       "  './images/cropped/Robert Downey Jr\\\\Robert Downey Jr40.png',\n",
       "  './images/cropped/Robert Downey Jr\\\\Robert Downey Jr43.png',\n",
       "  './images/cropped/Robert Downey Jr\\\\Robert Downey Jr44.png',\n",
       "  './images/cropped/Robert Downey Jr\\\\Robert Downey Jr45.png',\n",
       "  './images/cropped/Robert Downey Jr\\\\Robert Downey Jr46.png',\n",
       "  './images/cropped/Robert Downey Jr\\\\Robert Downey Jr47.png',\n",
       "  './images/cropped/Robert Downey Jr\\\\Robert Downey Jr48.png',\n",
       "  './images/cropped/Robert Downey Jr\\\\Robert Downey Jr49.png',\n",
       "  './images/cropped/Robert Downey Jr\\\\Robert Downey Jr50.png',\n",
       "  './images/cropped/Robert Downey Jr\\\\Robert Downey Jr51.png',\n",
       "  './images/cropped/Robert Downey Jr\\\\Robert Downey Jr52.png',\n",
       "  './images/cropped/Robert Downey Jr\\\\Robert Downey Jr53.png',\n",
       "  './images/cropped/Robert Downey Jr\\\\Robert Downey Jr54.png',\n",
       "  './images/cropped/Robert Downey Jr\\\\Robert Downey Jr55.png',\n",
       "  './images/cropped/Robert Downey Jr\\\\Robert Downey Jr56.png',\n",
       "  './images/cropped/Robert Downey Jr\\\\Robert Downey Jr57.png',\n",
       "  './images/cropped/Robert Downey Jr\\\\Robert Downey Jr58.png',\n",
       "  './images/cropped/Robert Downey Jr\\\\Robert Downey Jr59.png',\n",
       "  './images/cropped/Robert Downey Jr\\\\Robert Downey Jr6.png',\n",
       "  './images/cropped/Robert Downey Jr\\\\Robert Downey Jr60.png',\n",
       "  './images/cropped/Robert Downey Jr\\\\Robert Downey Jr61.png',\n",
       "  './images/cropped/Robert Downey Jr\\\\Robert Downey Jr62.png',\n",
       "  './images/cropped/Robert Downey Jr\\\\Robert Downey Jr63.png',\n",
       "  './images/cropped/Robert Downey Jr\\\\Robert Downey Jr64.png',\n",
       "  './images/cropped/Robert Downey Jr\\\\Robert Downey Jr65.png',\n",
       "  './images/cropped/Robert Downey Jr\\\\Robert Downey Jr66.png',\n",
       "  './images/cropped/Robert Downey Jr\\\\Robert Downey Jr67.png',\n",
       "  './images/cropped/Robert Downey Jr\\\\Robert Downey Jr68.png',\n",
       "  './images/cropped/Robert Downey Jr\\\\Robert Downey Jr69.png',\n",
       "  './images/cropped/Robert Downey Jr\\\\Robert Downey Jr7.png',\n",
       "  './images/cropped/Robert Downey Jr\\\\Robert Downey Jr70.png',\n",
       "  './images/cropped/Robert Downey Jr\\\\Robert Downey Jr71.png',\n",
       "  './images/cropped/Robert Downey Jr\\\\Robert Downey Jr72.png',\n",
       "  './images/cropped/Robert Downey Jr\\\\Robert Downey Jr73.png',\n",
       "  './images/cropped/Robert Downey Jr\\\\Robert Downey Jr74.png',\n",
       "  './images/cropped/Robert Downey Jr\\\\Robert Downey Jr75.png',\n",
       "  './images/cropped/Robert Downey Jr\\\\Robert Downey Jr76.png',\n",
       "  './images/cropped/Robert Downey Jr\\\\Robert Downey Jr77.png',\n",
       "  './images/cropped/Robert Downey Jr\\\\Robert Downey Jr78.png',\n",
       "  './images/cropped/Robert Downey Jr\\\\Robert Downey Jr79.png',\n",
       "  './images/cropped/Robert Downey Jr\\\\Robert Downey Jr8.png',\n",
       "  './images/cropped/Robert Downey Jr\\\\Robert Downey Jr80.png',\n",
       "  './images/cropped/Robert Downey Jr\\\\Robert Downey Jr81.png',\n",
       "  './images/cropped/Robert Downey Jr\\\\Robert Downey Jr82.png',\n",
       "  './images/cropped/Robert Downey Jr\\\\Robert Downey Jr83.png',\n",
       "  './images/cropped/Robert Downey Jr\\\\Robert Downey Jr84.png',\n",
       "  './images/cropped/Robert Downey Jr\\\\Robert Downey Jr85.png',\n",
       "  './images/cropped/Robert Downey Jr\\\\Robert Downey Jr86.png',\n",
       "  './images/cropped/Robert Downey Jr\\\\Robert Downey Jr87.png',\n",
       "  './images/cropped/Robert Downey Jr\\\\Robert Downey Jr88.png',\n",
       "  './images/cropped/Robert Downey Jr\\\\Robert Downey Jr89.png',\n",
       "  './images/cropped/Robert Downey Jr\\\\Robert Downey Jr9.png',\n",
       "  './images/cropped/Robert Downey Jr\\\\Robert Downey Jr90.png',\n",
       "  './images/cropped/Robert Downey Jr\\\\Robert Downey Jr91.png',\n",
       "  './images/cropped/Robert Downey Jr\\\\Robert Downey Jr92.png',\n",
       "  './images/cropped/Robert Downey Jr\\\\Robert Downey Jr93.png',\n",
       "  './images/cropped/Robert Downey Jr\\\\Robert Downey Jr94.png',\n",
       "  './images/cropped/Robert Downey Jr\\\\Robert Downey Jr95.png',\n",
       "  './images/cropped/Robert Downey Jr\\\\Robert Downey Jr96.png',\n",
       "  './images/cropped/Robert Downey Jr\\\\Robert Downey Jr97.png',\n",
       "  './images/cropped/Robert Downey Jr\\\\Robert Downey Jr98.png',\n",
       "  './images/cropped/Robert Downey Jr\\\\Robert Downey Jr99.png'],\n",
       " 'Sandra Bullock': ['./images/cropped/Sandra Bullock\\\\Sandra Bullock1.png',\n",
       "  './images/cropped/Sandra Bullock\\\\Sandra Bullock10.png',\n",
       "  './images/cropped/Sandra Bullock\\\\Sandra Bullock11.png',\n",
       "  './images/cropped/Sandra Bullock\\\\Sandra Bullock12.png',\n",
       "  './images/cropped/Sandra Bullock\\\\Sandra Bullock13.png',\n",
       "  './images/cropped/Sandra Bullock\\\\Sandra Bullock14.png',\n",
       "  './images/cropped/Sandra Bullock\\\\Sandra Bullock15.png',\n",
       "  './images/cropped/Sandra Bullock\\\\Sandra Bullock16.png',\n",
       "  './images/cropped/Sandra Bullock\\\\Sandra Bullock17.png',\n",
       "  './images/cropped/Sandra Bullock\\\\Sandra Bullock18.png',\n",
       "  './images/cropped/Sandra Bullock\\\\Sandra Bullock19.png',\n",
       "  './images/cropped/Sandra Bullock\\\\Sandra Bullock2.png',\n",
       "  './images/cropped/Sandra Bullock\\\\Sandra Bullock20.png',\n",
       "  './images/cropped/Sandra Bullock\\\\Sandra Bullock21.png',\n",
       "  './images/cropped/Sandra Bullock\\\\Sandra Bullock22.png',\n",
       "  './images/cropped/Sandra Bullock\\\\Sandra Bullock23.png',\n",
       "  './images/cropped/Sandra Bullock\\\\Sandra Bullock24.png',\n",
       "  './images/cropped/Sandra Bullock\\\\Sandra Bullock25.png',\n",
       "  './images/cropped/Sandra Bullock\\\\Sandra Bullock26.png',\n",
       "  './images/cropped/Sandra Bullock\\\\Sandra Bullock27.png',\n",
       "  './images/cropped/Sandra Bullock\\\\Sandra Bullock28.png',\n",
       "  './images/cropped/Sandra Bullock\\\\Sandra Bullock29.png',\n",
       "  './images/cropped/Sandra Bullock\\\\Sandra Bullock3.png',\n",
       "  './images/cropped/Sandra Bullock\\\\Sandra Bullock30.png',\n",
       "  './images/cropped/Sandra Bullock\\\\Sandra Bullock31.png',\n",
       "  './images/cropped/Sandra Bullock\\\\Sandra Bullock32.png',\n",
       "  './images/cropped/Sandra Bullock\\\\Sandra Bullock33.png',\n",
       "  './images/cropped/Sandra Bullock\\\\Sandra Bullock34.png',\n",
       "  './images/cropped/Sandra Bullock\\\\Sandra Bullock35.png',\n",
       "  './images/cropped/Sandra Bullock\\\\Sandra Bullock36.png',\n",
       "  './images/cropped/Sandra Bullock\\\\Sandra Bullock37.png',\n",
       "  './images/cropped/Sandra Bullock\\\\Sandra Bullock38.png',\n",
       "  './images/cropped/Sandra Bullock\\\\Sandra Bullock39.png',\n",
       "  './images/cropped/Sandra Bullock\\\\Sandra Bullock4.png',\n",
       "  './images/cropped/Sandra Bullock\\\\Sandra Bullock40.png',\n",
       "  './images/cropped/Sandra Bullock\\\\Sandra Bullock41.png',\n",
       "  './images/cropped/Sandra Bullock\\\\Sandra Bullock42.png',\n",
       "  './images/cropped/Sandra Bullock\\\\Sandra Bullock43.png',\n",
       "  './images/cropped/Sandra Bullock\\\\Sandra Bullock44.png',\n",
       "  './images/cropped/Sandra Bullock\\\\Sandra Bullock45.png',\n",
       "  './images/cropped/Sandra Bullock\\\\Sandra Bullock46.png',\n",
       "  './images/cropped/Sandra Bullock\\\\Sandra Bullock47.png',\n",
       "  './images/cropped/Sandra Bullock\\\\Sandra Bullock48.png',\n",
       "  './images/cropped/Sandra Bullock\\\\Sandra Bullock49.png',\n",
       "  './images/cropped/Sandra Bullock\\\\Sandra Bullock5.png',\n",
       "  './images/cropped/Sandra Bullock\\\\Sandra Bullock50.png',\n",
       "  './images/cropped/Sandra Bullock\\\\Sandra Bullock51.png',\n",
       "  './images/cropped/Sandra Bullock\\\\Sandra Bullock52.png',\n",
       "  './images/cropped/Sandra Bullock\\\\Sandra Bullock53.png',\n",
       "  './images/cropped/Sandra Bullock\\\\Sandra Bullock54.png',\n",
       "  './images/cropped/Sandra Bullock\\\\Sandra Bullock55.png',\n",
       "  './images/cropped/Sandra Bullock\\\\Sandra Bullock56.png',\n",
       "  './images/cropped/Sandra Bullock\\\\Sandra Bullock57.png',\n",
       "  './images/cropped/Sandra Bullock\\\\Sandra Bullock58.png',\n",
       "  './images/cropped/Sandra Bullock\\\\Sandra Bullock59.png',\n",
       "  './images/cropped/Sandra Bullock\\\\Sandra Bullock6.png',\n",
       "  './images/cropped/Sandra Bullock\\\\Sandra Bullock60.png',\n",
       "  './images/cropped/Sandra Bullock\\\\Sandra Bullock61.png',\n",
       "  './images/cropped/Sandra Bullock\\\\Sandra Bullock62.png',\n",
       "  './images/cropped/Sandra Bullock\\\\Sandra Bullock63.png',\n",
       "  './images/cropped/Sandra Bullock\\\\Sandra Bullock64.png',\n",
       "  './images/cropped/Sandra Bullock\\\\Sandra Bullock65.png',\n",
       "  './images/cropped/Sandra Bullock\\\\Sandra Bullock66.png',\n",
       "  './images/cropped/Sandra Bullock\\\\Sandra Bullock67.png',\n",
       "  './images/cropped/Sandra Bullock\\\\Sandra Bullock68.png',\n",
       "  './images/cropped/Sandra Bullock\\\\Sandra Bullock69.png',\n",
       "  './images/cropped/Sandra Bullock\\\\Sandra Bullock7.png',\n",
       "  './images/cropped/Sandra Bullock\\\\Sandra Bullock70.png',\n",
       "  './images/cropped/Sandra Bullock\\\\Sandra Bullock71.png',\n",
       "  './images/cropped/Sandra Bullock\\\\Sandra Bullock72.png',\n",
       "  './images/cropped/Sandra Bullock\\\\Sandra Bullock73.png',\n",
       "  './images/cropped/Sandra Bullock\\\\Sandra Bullock74.png',\n",
       "  './images/cropped/Sandra Bullock\\\\Sandra Bullock75.png',\n",
       "  './images/cropped/Sandra Bullock\\\\Sandra Bullock76.png',\n",
       "  './images/cropped/Sandra Bullock\\\\Sandra Bullock77.png',\n",
       "  './images/cropped/Sandra Bullock\\\\Sandra Bullock78.png',\n",
       "  './images/cropped/Sandra Bullock\\\\Sandra Bullock79.png',\n",
       "  './images/cropped/Sandra Bullock\\\\Sandra Bullock8.png',\n",
       "  './images/cropped/Sandra Bullock\\\\Sandra Bullock80.png',\n",
       "  './images/cropped/Sandra Bullock\\\\Sandra Bullock81.png',\n",
       "  './images/cropped/Sandra Bullock\\\\Sandra Bullock82.png',\n",
       "  './images/cropped/Sandra Bullock\\\\Sandra Bullock9.png'],\n",
       " 'Scarlett Johansson': ['./images/cropped/Scarlett Johansson\\\\Scarlett Johansson1.png',\n",
       "  './images/cropped/Scarlett Johansson\\\\Scarlett Johansson10.png',\n",
       "  './images/cropped/Scarlett Johansson\\\\Scarlett Johansson100.png',\n",
       "  './images/cropped/Scarlett Johansson\\\\Scarlett Johansson101.png',\n",
       "  './images/cropped/Scarlett Johansson\\\\Scarlett Johansson102.png',\n",
       "  './images/cropped/Scarlett Johansson\\\\Scarlett Johansson103.png',\n",
       "  './images/cropped/Scarlett Johansson\\\\Scarlett Johansson104.png',\n",
       "  './images/cropped/Scarlett Johansson\\\\Scarlett Johansson105.png',\n",
       "  './images/cropped/Scarlett Johansson\\\\Scarlett Johansson106.png',\n",
       "  './images/cropped/Scarlett Johansson\\\\Scarlett Johansson107.png',\n",
       "  './images/cropped/Scarlett Johansson\\\\Scarlett Johansson108.png',\n",
       "  './images/cropped/Scarlett Johansson\\\\Scarlett Johansson109.png',\n",
       "  './images/cropped/Scarlett Johansson\\\\Scarlett Johansson11.png',\n",
       "  './images/cropped/Scarlett Johansson\\\\Scarlett Johansson110.png',\n",
       "  './images/cropped/Scarlett Johansson\\\\Scarlett Johansson111.png',\n",
       "  './images/cropped/Scarlett Johansson\\\\Scarlett Johansson112.png',\n",
       "  './images/cropped/Scarlett Johansson\\\\Scarlett Johansson113.png',\n",
       "  './images/cropped/Scarlett Johansson\\\\Scarlett Johansson114.png',\n",
       "  './images/cropped/Scarlett Johansson\\\\Scarlett Johansson115.png',\n",
       "  './images/cropped/Scarlett Johansson\\\\Scarlett Johansson116.png',\n",
       "  './images/cropped/Scarlett Johansson\\\\Scarlett Johansson117.png',\n",
       "  './images/cropped/Scarlett Johansson\\\\Scarlett Johansson118.png',\n",
       "  './images/cropped/Scarlett Johansson\\\\Scarlett Johansson119.png',\n",
       "  './images/cropped/Scarlett Johansson\\\\Scarlett Johansson12.png',\n",
       "  './images/cropped/Scarlett Johansson\\\\Scarlett Johansson120.png',\n",
       "  './images/cropped/Scarlett Johansson\\\\Scarlett Johansson121.png',\n",
       "  './images/cropped/Scarlett Johansson\\\\Scarlett Johansson122.png',\n",
       "  './images/cropped/Scarlett Johansson\\\\Scarlett Johansson123.png',\n",
       "  './images/cropped/Scarlett Johansson\\\\Scarlett Johansson124.png',\n",
       "  './images/cropped/Scarlett Johansson\\\\Scarlett Johansson125.png',\n",
       "  './images/cropped/Scarlett Johansson\\\\Scarlett Johansson126.png',\n",
       "  './images/cropped/Scarlett Johansson\\\\Scarlett Johansson127.png',\n",
       "  './images/cropped/Scarlett Johansson\\\\Scarlett Johansson128.png',\n",
       "  './images/cropped/Scarlett Johansson\\\\Scarlett Johansson129.png',\n",
       "  './images/cropped/Scarlett Johansson\\\\Scarlett Johansson13.png',\n",
       "  './images/cropped/Scarlett Johansson\\\\Scarlett Johansson130.png',\n",
       "  './images/cropped/Scarlett Johansson\\\\Scarlett Johansson131.png',\n",
       "  './images/cropped/Scarlett Johansson\\\\Scarlett Johansson132.png',\n",
       "  './images/cropped/Scarlett Johansson\\\\Scarlett Johansson133.png',\n",
       "  './images/cropped/Scarlett Johansson\\\\Scarlett Johansson134.png',\n",
       "  './images/cropped/Scarlett Johansson\\\\Scarlett Johansson135.png',\n",
       "  './images/cropped/Scarlett Johansson\\\\Scarlett Johansson136.png',\n",
       "  './images/cropped/Scarlett Johansson\\\\Scarlett Johansson137.png',\n",
       "  './images/cropped/Scarlett Johansson\\\\Scarlett Johansson138.png',\n",
       "  './images/cropped/Scarlett Johansson\\\\Scarlett Johansson139.png',\n",
       "  './images/cropped/Scarlett Johansson\\\\Scarlett Johansson14.png',\n",
       "  './images/cropped/Scarlett Johansson\\\\Scarlett Johansson140.png',\n",
       "  './images/cropped/Scarlett Johansson\\\\Scarlett Johansson141.png',\n",
       "  './images/cropped/Scarlett Johansson\\\\Scarlett Johansson142.png',\n",
       "  './images/cropped/Scarlett Johansson\\\\Scarlett Johansson143.png',\n",
       "  './images/cropped/Scarlett Johansson\\\\Scarlett Johansson144.png',\n",
       "  './images/cropped/Scarlett Johansson\\\\Scarlett Johansson145.png',\n",
       "  './images/cropped/Scarlett Johansson\\\\Scarlett Johansson146.png',\n",
       "  './images/cropped/Scarlett Johansson\\\\Scarlett Johansson147.png',\n",
       "  './images/cropped/Scarlett Johansson\\\\Scarlett Johansson148.png',\n",
       "  './images/cropped/Scarlett Johansson\\\\Scarlett Johansson149.png',\n",
       "  './images/cropped/Scarlett Johansson\\\\Scarlett Johansson15.png',\n",
       "  './images/cropped/Scarlett Johansson\\\\Scarlett Johansson150.png',\n",
       "  './images/cropped/Scarlett Johansson\\\\Scarlett Johansson151.png',\n",
       "  './images/cropped/Scarlett Johansson\\\\Scarlett Johansson152.png',\n",
       "  './images/cropped/Scarlett Johansson\\\\Scarlett Johansson153.png',\n",
       "  './images/cropped/Scarlett Johansson\\\\Scarlett Johansson154.png',\n",
       "  './images/cropped/Scarlett Johansson\\\\Scarlett Johansson155.png',\n",
       "  './images/cropped/Scarlett Johansson\\\\Scarlett Johansson156.png',\n",
       "  './images/cropped/Scarlett Johansson\\\\Scarlett Johansson157.png',\n",
       "  './images/cropped/Scarlett Johansson\\\\Scarlett Johansson158.png',\n",
       "  './images/cropped/Scarlett Johansson\\\\Scarlett Johansson159.png',\n",
       "  './images/cropped/Scarlett Johansson\\\\Scarlett Johansson16.png',\n",
       "  './images/cropped/Scarlett Johansson\\\\Scarlett Johansson160.png',\n",
       "  './images/cropped/Scarlett Johansson\\\\Scarlett Johansson161.png',\n",
       "  './images/cropped/Scarlett Johansson\\\\Scarlett Johansson162.png',\n",
       "  './images/cropped/Scarlett Johansson\\\\Scarlett Johansson163.png',\n",
       "  './images/cropped/Scarlett Johansson\\\\Scarlett Johansson164.png',\n",
       "  './images/cropped/Scarlett Johansson\\\\Scarlett Johansson165.png',\n",
       "  './images/cropped/Scarlett Johansson\\\\Scarlett Johansson166.png',\n",
       "  './images/cropped/Scarlett Johansson\\\\Scarlett Johansson167.png',\n",
       "  './images/cropped/Scarlett Johansson\\\\Scarlett Johansson168.png',\n",
       "  './images/cropped/Scarlett Johansson\\\\Scarlett Johansson17.png',\n",
       "  './images/cropped/Scarlett Johansson\\\\Scarlett Johansson18.png',\n",
       "  './images/cropped/Scarlett Johansson\\\\Scarlett Johansson19.png',\n",
       "  './images/cropped/Scarlett Johansson\\\\Scarlett Johansson2.png',\n",
       "  './images/cropped/Scarlett Johansson\\\\Scarlett Johansson20.png',\n",
       "  './images/cropped/Scarlett Johansson\\\\Scarlett Johansson21.png',\n",
       "  './images/cropped/Scarlett Johansson\\\\Scarlett Johansson22.png',\n",
       "  './images/cropped/Scarlett Johansson\\\\Scarlett Johansson23.png',\n",
       "  './images/cropped/Scarlett Johansson\\\\Scarlett Johansson24.png',\n",
       "  './images/cropped/Scarlett Johansson\\\\Scarlett Johansson25.png',\n",
       "  './images/cropped/Scarlett Johansson\\\\Scarlett Johansson26.png',\n",
       "  './images/cropped/Scarlett Johansson\\\\Scarlett Johansson27.png',\n",
       "  './images/cropped/Scarlett Johansson\\\\Scarlett Johansson28.png',\n",
       "  './images/cropped/Scarlett Johansson\\\\Scarlett Johansson29.png',\n",
       "  './images/cropped/Scarlett Johansson\\\\Scarlett Johansson3.png',\n",
       "  './images/cropped/Scarlett Johansson\\\\Scarlett Johansson30.png',\n",
       "  './images/cropped/Scarlett Johansson\\\\Scarlett Johansson31.png',\n",
       "  './images/cropped/Scarlett Johansson\\\\Scarlett Johansson32.png',\n",
       "  './images/cropped/Scarlett Johansson\\\\Scarlett Johansson33.png',\n",
       "  './images/cropped/Scarlett Johansson\\\\Scarlett Johansson34.png',\n",
       "  './images/cropped/Scarlett Johansson\\\\Scarlett Johansson35.png',\n",
       "  './images/cropped/Scarlett Johansson\\\\Scarlett Johansson36.png',\n",
       "  './images/cropped/Scarlett Johansson\\\\Scarlett Johansson37.png',\n",
       "  './images/cropped/Scarlett Johansson\\\\Scarlett Johansson38.png',\n",
       "  './images/cropped/Scarlett Johansson\\\\Scarlett Johansson39.png',\n",
       "  './images/cropped/Scarlett Johansson\\\\Scarlett Johansson4.png',\n",
       "  './images/cropped/Scarlett Johansson\\\\Scarlett Johansson40.png',\n",
       "  './images/cropped/Scarlett Johansson\\\\Scarlett Johansson41.png',\n",
       "  './images/cropped/Scarlett Johansson\\\\Scarlett Johansson42.png',\n",
       "  './images/cropped/Scarlett Johansson\\\\Scarlett Johansson43.png',\n",
       "  './images/cropped/Scarlett Johansson\\\\Scarlett Johansson44.png',\n",
       "  './images/cropped/Scarlett Johansson\\\\Scarlett Johansson45.png',\n",
       "  './images/cropped/Scarlett Johansson\\\\Scarlett Johansson46.png',\n",
       "  './images/cropped/Scarlett Johansson\\\\Scarlett Johansson47.png',\n",
       "  './images/cropped/Scarlett Johansson\\\\Scarlett Johansson48.png',\n",
       "  './images/cropped/Scarlett Johansson\\\\Scarlett Johansson49.png',\n",
       "  './images/cropped/Scarlett Johansson\\\\Scarlett Johansson5.png',\n",
       "  './images/cropped/Scarlett Johansson\\\\Scarlett Johansson50.png',\n",
       "  './images/cropped/Scarlett Johansson\\\\Scarlett Johansson51.png',\n",
       "  './images/cropped/Scarlett Johansson\\\\Scarlett Johansson52.png',\n",
       "  './images/cropped/Scarlett Johansson\\\\Scarlett Johansson53.png',\n",
       "  './images/cropped/Scarlett Johansson\\\\Scarlett Johansson54.png',\n",
       "  './images/cropped/Scarlett Johansson\\\\Scarlett Johansson55.png',\n",
       "  './images/cropped/Scarlett Johansson\\\\Scarlett Johansson56.png',\n",
       "  './images/cropped/Scarlett Johansson\\\\Scarlett Johansson57.png',\n",
       "  './images/cropped/Scarlett Johansson\\\\Scarlett Johansson58.png',\n",
       "  './images/cropped/Scarlett Johansson\\\\Scarlett Johansson59.png',\n",
       "  './images/cropped/Scarlett Johansson\\\\Scarlett Johansson6.png',\n",
       "  './images/cropped/Scarlett Johansson\\\\Scarlett Johansson60.png',\n",
       "  './images/cropped/Scarlett Johansson\\\\Scarlett Johansson61.png',\n",
       "  './images/cropped/Scarlett Johansson\\\\Scarlett Johansson62.png',\n",
       "  './images/cropped/Scarlett Johansson\\\\Scarlett Johansson63.png',\n",
       "  './images/cropped/Scarlett Johansson\\\\Scarlett Johansson64.png',\n",
       "  './images/cropped/Scarlett Johansson\\\\Scarlett Johansson65.png',\n",
       "  './images/cropped/Scarlett Johansson\\\\Scarlett Johansson66.png',\n",
       "  './images/cropped/Scarlett Johansson\\\\Scarlett Johansson67.png',\n",
       "  './images/cropped/Scarlett Johansson\\\\Scarlett Johansson68.png',\n",
       "  './images/cropped/Scarlett Johansson\\\\Scarlett Johansson69.png',\n",
       "  './images/cropped/Scarlett Johansson\\\\Scarlett Johansson7.png',\n",
       "  './images/cropped/Scarlett Johansson\\\\Scarlett Johansson70.png',\n",
       "  './images/cropped/Scarlett Johansson\\\\Scarlett Johansson71.png',\n",
       "  './images/cropped/Scarlett Johansson\\\\Scarlett Johansson72.png',\n",
       "  './images/cropped/Scarlett Johansson\\\\Scarlett Johansson73.png',\n",
       "  './images/cropped/Scarlett Johansson\\\\Scarlett Johansson74.png',\n",
       "  './images/cropped/Scarlett Johansson\\\\Scarlett Johansson75.png',\n",
       "  './images/cropped/Scarlett Johansson\\\\Scarlett Johansson76.png',\n",
       "  './images/cropped/Scarlett Johansson\\\\Scarlett Johansson77.png',\n",
       "  './images/cropped/Scarlett Johansson\\\\Scarlett Johansson78.png',\n",
       "  './images/cropped/Scarlett Johansson\\\\Scarlett Johansson79.png',\n",
       "  './images/cropped/Scarlett Johansson\\\\Scarlett Johansson8.png',\n",
       "  './images/cropped/Scarlett Johansson\\\\Scarlett Johansson80.png',\n",
       "  './images/cropped/Scarlett Johansson\\\\Scarlett Johansson81.png',\n",
       "  './images/cropped/Scarlett Johansson\\\\Scarlett Johansson82.png',\n",
       "  './images/cropped/Scarlett Johansson\\\\Scarlett Johansson83.png',\n",
       "  './images/cropped/Scarlett Johansson\\\\Scarlett Johansson84.png',\n",
       "  './images/cropped/Scarlett Johansson\\\\Scarlett Johansson85.png',\n",
       "  './images/cropped/Scarlett Johansson\\\\Scarlett Johansson86.png',\n",
       "  './images/cropped/Scarlett Johansson\\\\Scarlett Johansson87.png',\n",
       "  './images/cropped/Scarlett Johansson\\\\Scarlett Johansson88.png',\n",
       "  './images/cropped/Scarlett Johansson\\\\Scarlett Johansson89.png',\n",
       "  './images/cropped/Scarlett Johansson\\\\Scarlett Johansson9.png',\n",
       "  './images/cropped/Scarlett Johansson\\\\Scarlett Johansson90.png',\n",
       "  './images/cropped/Scarlett Johansson\\\\Scarlett Johansson91.png',\n",
       "  './images/cropped/Scarlett Johansson\\\\Scarlett Johansson92.png',\n",
       "  './images/cropped/Scarlett Johansson\\\\Scarlett Johansson93.png',\n",
       "  './images/cropped/Scarlett Johansson\\\\Scarlett Johansson94.png',\n",
       "  './images/cropped/Scarlett Johansson\\\\Scarlett Johansson95.png',\n",
       "  './images/cropped/Scarlett Johansson\\\\Scarlett Johansson96.png',\n",
       "  './images/cropped/Scarlett Johansson\\\\Scarlett Johansson97.png',\n",
       "  './images/cropped/Scarlett Johansson\\\\Scarlett Johansson98.png',\n",
       "  './images/cropped/Scarlett Johansson\\\\Scarlett Johansson99.png']}"
      ]
     },
     "execution_count": 53,
     "metadata": {},
     "output_type": "execute_result"
    }
   ],
   "source": [
    "celebrity_file_names_dict = {}\n",
    "for img_dir in cropped_image_dirs:\n",
    "    celebrity_name = img_dir.split('/')[-1]\n",
    "    file_list = []\n",
    "    for entry in os.scandir(img_dir):\n",
    "        file_list.append(entry.path)\n",
    "    celebrity_file_names_dict[celebrity_name] = file_list\n",
    "celebrity_file_names_dict"
   ]
  },
  {
   "cell_type": "code",
   "execution_count": 54,
   "metadata": {
    "scrolled": true
   },
   "outputs": [
    {
     "data": {
      "text/plain": [
       "{'Denzel Washington': 0,\n",
       " 'Leonardo DiCaprio': 1,\n",
       " 'Robert Downey Jr': 2,\n",
       " 'Sandra Bullock': 3,\n",
       " 'Scarlett Johansson': 4}"
      ]
     },
     "execution_count": 54,
     "metadata": {},
     "output_type": "execute_result"
    }
   ],
   "source": [
    "class_dict = {}\n",
    "count = 0\n",
    "for celebrity_name in celebrity_file_names_dict.keys():\n",
    "    class_dict[celebrity_name] = count\n",
    "    count = count + 1\n",
    "class_dict"
   ]
  },
  {
   "cell_type": "markdown",
   "metadata": {},
   "source": [
    "### Let's prepare X and y to train the model"
   ]
  },
  {
   "cell_type": "code",
   "execution_count": 55,
   "metadata": {},
   "outputs": [],
   "source": [
    "X, y = [], []\n",
    "for celebrity_name, training_files in celebrity_file_names_dict.items():\n",
    "    for training_image in training_files:\n",
    "        img = cv2.imread(training_image)\n",
    "        scalled_raw_img = cv2.resize(img, (32, 32))\n",
    "        img_har = w2d(img,'db1',5)\n",
    "        scalled_img_har = cv2.resize(img_har, (32, 32))\n",
    "        combined_img = np.vstack((scalled_raw_img.reshape(32*32*3,1),scalled_img_har.reshape(32*32,1)))\n",
    "        X.append(combined_img)\n",
    "        y.append(class_dict[celebrity_name])     "
   ]
  },
  {
   "cell_type": "code",
   "execution_count": 56,
   "metadata": {},
   "outputs": [
    {
     "data": {
      "text/plain": [
       "4096"
      ]
     },
     "execution_count": 56,
     "metadata": {},
     "output_type": "execute_result"
    }
   ],
   "source": [
    "len(X[0])"
   ]
  },
  {
   "cell_type": "code",
   "execution_count": 58,
   "metadata": {},
   "outputs": [
    {
     "data": {
      "text/plain": [
       "array([[197],\n",
       "       [226],\n",
       "       [240],\n",
       "       ...,\n",
       "       [252],\n",
       "       [250],\n",
       "       [253]], dtype=uint8)"
      ]
     },
     "execution_count": 58,
     "metadata": {},
     "output_type": "execute_result"
    }
   ],
   "source": [
    "X[0]"
   ]
  },
  {
   "cell_type": "code",
   "execution_count": 59,
   "metadata": {},
   "outputs": [
    {
     "data": {
      "text/plain": [
       "0"
      ]
     },
     "execution_count": 59,
     "metadata": {},
     "output_type": "execute_result"
    }
   ],
   "source": [
    "y[0]"
   ]
  },
  {
   "cell_type": "code",
   "execution_count": 60,
   "metadata": {},
   "outputs": [
    {
     "data": {
      "text/plain": [
       "(647, 4096)"
      ]
     },
     "execution_count": 60,
     "metadata": {},
     "output_type": "execute_result"
    }
   ],
   "source": [
    "X = np.array(X).reshape(len(X),4096).astype(float)\n",
    "X.shape"
   ]
  },
  {
   "cell_type": "markdown",
   "metadata": {},
   "source": [
    "### Data cleaning process is done. Now we are ready to train our model"
   ]
  },
  {
   "cell_type": "markdown",
   "metadata": {},
   "source": [
    "We will use SVM with rbf kernel tuned  with heuristic finetuning"
   ]
  },
  {
   "cell_type": "code",
   "execution_count": 62,
   "metadata": {
    "scrolled": false
   },
   "outputs": [
    {
     "data": {
      "text/plain": [
       "0.9074074074074074"
      ]
     },
     "execution_count": 62,
     "metadata": {},
     "output_type": "execute_result"
    }
   ],
   "source": [
    "X_train, X_test, y_train, y_test = train_test_split(X, y, random_state=0)\n",
    "\n",
    "pipe = Pipeline([('scaler', StandardScaler()), ('svc', svm.SVC(kernel = 'rbf', C = 10))])\n",
    "pipe.fit(X_train, y_train)\n",
    "pipe.score(X_test, y_test)"
   ]
  },
  {
   "cell_type": "code",
   "execution_count": 63,
   "metadata": {
    "scrolled": true
   },
   "outputs": [
    {
     "name": "stdout",
     "output_type": "stream",
     "text": [
      "              precision    recall  f1-score   support\n",
      "\n",
      "           0       0.82      1.00      0.90        33\n",
      "           1       1.00      0.92      0.96        37\n",
      "           2       0.87      0.91      0.89        22\n",
      "           3       1.00      0.74      0.85        23\n",
      "           4       0.90      0.91      0.91        47\n",
      "\n",
      "    accuracy                           0.91       162\n",
      "   macro avg       0.92      0.90      0.90       162\n",
      "weighted avg       0.92      0.91      0.91       162\n",
      "\n"
     ]
    }
   ],
   "source": [
    "print(classification_report(y_test, pipe.predict(X_test)))"
   ]
  },
  {
   "cell_type": "markdown",
   "metadata": {},
   "source": [
    "### Let's use GridSearch to try out different models with different paramets. Goal is to come up with best modle with best fine tuned parameters"
   ]
  },
  {
   "cell_type": "code",
   "execution_count": 65,
   "metadata": {
    "scrolled": false
   },
   "outputs": [],
   "source": [
    "model_params = {\n",
    "    'svm': {\n",
    "        'model': svm.SVC(gamma='auto',probability=True),\n",
    "        'params' : {\n",
    "            'svc__C': [1,10,100,1000],\n",
    "            'svc__kernel': ['rbf','linear']\n",
    "        }  \n",
    "    },\n",
    "    'random_forest': {\n",
    "        'model': RandomForestClassifier(),\n",
    "        'params' : {\n",
    "            'randomforestclassifier__n_estimators': [1,5,10]\n",
    "        }\n",
    "    },\n",
    "    'logistic_regression' : {\n",
    "        'model': LogisticRegression(solver='liblinear',multi_class='auto'),\n",
    "        'params': {\n",
    "            'logisticregression__C': [1,5,10]\n",
    "        }\n",
    "    }\n",
    "}"
   ]
  },
  {
   "cell_type": "code",
   "execution_count": 66,
   "metadata": {},
   "outputs": [
    {
     "name": "stdout",
     "output_type": "stream",
     "text": [
      "                 model  best_score  \\\n",
      "0                  svm    0.851488   \n",
      "1        random_forest    0.632781   \n",
      "2  logistic_regression    0.872194   \n",
      "\n",
      "                                    best_params  \n",
      "0        {'svc__C': 1, 'svc__kernel': 'linear'}  \n",
      "1  {'randomforestclassifier__n_estimators': 10}  \n",
      "2                  {'logisticregression__C': 1}  \n"
     ]
    }
   ],
   "source": [
    "scores = []\n",
    "best_estimators = {}\n",
    "\n",
    "for algo, mp in model_params.items():\n",
    "    pipe = make_pipeline(StandardScaler(), mp['model'])\n",
    "    clf = GridSearchCV(pipe, mp['params'], cv=10, return_train_score=False, n_jobs=-1)\n",
    "    clf.fit(X_train, y_train)\n",
    "    scores.append({\n",
    "        'model': algo,\n",
    "        'best_score': clf.best_score_,\n",
    "        'best_params': clf.best_params_\n",
    "    })\n",
    "    best_estimators[algo] = clf.best_estimator_\n",
    "\n",
    "df = pd.DataFrame(scores, columns=['model', 'best_score', 'best_params'])\n",
    "print(df)\n"
   ]
  },
  {
   "cell_type": "code",
   "execution_count": 67,
   "metadata": {
    "scrolled": true
   },
   "outputs": [
    {
     "data": {
      "text/plain": [
       "{'svm': Pipeline(steps=[('standardscaler', StandardScaler()),\n",
       "                 ('svc',\n",
       "                  SVC(C=1, gamma='auto', kernel='linear', probability=True))]),\n",
       " 'random_forest': Pipeline(steps=[('standardscaler', StandardScaler()),\n",
       "                 ('randomforestclassifier',\n",
       "                  RandomForestClassifier(n_estimators=10))]),\n",
       " 'logistic_regression': Pipeline(steps=[('standardscaler', StandardScaler()),\n",
       "                 ('logisticregression',\n",
       "                  LogisticRegression(C=1, solver='liblinear'))])}"
      ]
     },
     "execution_count": 67,
     "metadata": {},
     "output_type": "execute_result"
    }
   ],
   "source": [
    "best_estimators"
   ]
  },
  {
   "cell_type": "code",
   "execution_count": 68,
   "metadata": {},
   "outputs": [
    {
     "data": {
      "text/plain": [
       "0.9320987654320988"
      ]
     },
     "execution_count": 68,
     "metadata": {},
     "output_type": "execute_result"
    }
   ],
   "source": [
    "best_estimators['svm'].score(X_test,y_test)"
   ]
  },
  {
   "cell_type": "code",
   "execution_count": 69,
   "metadata": {},
   "outputs": [
    {
     "data": {
      "text/plain": [
       "0.6604938271604939"
      ]
     },
     "execution_count": 69,
     "metadata": {},
     "output_type": "execute_result"
    }
   ],
   "source": [
    "best_estimators['random_forest'].score(X_test,y_test)"
   ]
  },
  {
   "cell_type": "code",
   "execution_count": 70,
   "metadata": {},
   "outputs": [
    {
     "data": {
      "text/plain": [
       "0.9259259259259259"
      ]
     },
     "execution_count": 70,
     "metadata": {},
     "output_type": "execute_result"
    }
   ],
   "source": [
    "best_estimators['logistic_regression'].score(X_test,y_test)"
   ]
  },
  {
   "cell_type": "code",
   "execution_count": 77,
   "metadata": {},
   "outputs": [],
   "source": [
    "best_clf = best_estimators['logistic_regression']"
   ]
  },
  {
   "cell_type": "code",
   "execution_count": 73,
   "metadata": {},
   "outputs": [
    {
     "data": {
      "text/plain": [
       "array([[32,  1,  0,  0,  0],\n",
       "       [ 0, 35,  2,  0,  0],\n",
       "       [ 0,  1, 21,  0,  0],\n",
       "       [ 0,  0,  2, 19,  2],\n",
       "       [ 2,  1,  0,  0, 44]], dtype=int64)"
      ]
     },
     "execution_count": 73,
     "metadata": {},
     "output_type": "execute_result"
    }
   ],
   "source": [
    "from sklearn.metrics import confusion_matrix\n",
    "cm = confusion_matrix(y_test, best_clf.predict(X_test))\n",
    "cm"
   ]
  },
  {
   "cell_type": "code",
   "execution_count": 74,
   "metadata": {
    "scrolled": false
   },
   "outputs": [
    {
     "data": {
      "text/plain": [
       "Text(95.72222222222221, 0.5, 'Truth')"
      ]
     },
     "execution_count": 74,
     "metadata": {},
     "output_type": "execute_result"
    },
    {
     "data": {
      "image/png": "[encoded data removed]",
      "text/plain": [
       "<Figure size 1000x700 with 2 Axes>"
      ]
     },
     "metadata": {},
     "output_type": "display_data"
    }
   ],
   "source": [
    "import seaborn as sn\n",
    "plt.figure(figsize = (10,7))\n",
    "sn.heatmap(cm, annot=True)\n",
    "plt.xlabel('Predicted')\n",
    "plt.ylabel('Truth')"
   ]
  },
  {
   "cell_type": "code",
   "execution_count": 75,
   "metadata": {},
   "outputs": [
    {
     "data": {
      "text/plain": [
       "{'Denzel Washington': 0,\n",
       " 'Leonardo DiCaprio': 1,\n",
       " 'Robert Downey Jr': 2,\n",
       " 'Sandra Bullock': 3,\n",
       " 'Scarlett Johansson': 4}"
      ]
     },
     "execution_count": 75,
     "metadata": {},
     "output_type": "execute_result"
    }
   ],
   "source": [
    "class_dict"
   ]
  },
  {
   "cell_type": "markdown",
   "metadata": {},
   "source": [
    "### Save the trained model"
   ]
  },
  {
   "cell_type": "code",
   "execution_count": 78,
   "metadata": {
    "scrolled": true
   },
   "outputs": [
    {
     "data": {
      "text/plain": [
       "['saved_model.pkl']"
      ]
     },
     "execution_count": 78,
     "metadata": {},
     "output_type": "execute_result"
    }
   ],
   "source": [
    "import joblib \n",
    "# Save the model as a pickle in a file \n",
    "joblib.dump(best_clf, 'saved_model.pkl') "
   ]
  },
  {
   "cell_type": "markdown",
   "metadata": {},
   "source": [
    "### Save class dictionary"
   ]
  },
  {
   "cell_type": "code",
   "execution_count": 79,
   "metadata": {},
   "outputs": [],
   "source": [
    "import json\n",
    "with open(\"class_dictionary.json\",\"w\") as f:\n",
    "    f.write(json.dumps(class_dict))"
   ]
  },
  {
   "cell_type": "code",
   "execution_count": null,
   "metadata": {},
   "outputs": [],
   "source": []
  }
 ],
 "metadata": {
  "kernelspec": {
   "display_name": "base",
   "language": "python",
   "name": "python3"
  },
  "language_info": {
   "codemirror_mode": {
    "name": "ipython",
    "version": 3
   },
   "file_extension": ".py",
   "mimetype": "text/x-python",
   "name": "python",
   "nbconvert_exporter": "python",
   "pygments_lexer": "ipython3",
   "version": "3.12.3"
  }
 },
 "nbformat": 4,
 "nbformat_minor": 2
}
